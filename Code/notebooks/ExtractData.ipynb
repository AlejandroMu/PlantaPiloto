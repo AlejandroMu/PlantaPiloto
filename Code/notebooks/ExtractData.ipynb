{
 "cells": [
  {
   "cell_type": "code",
   "execution_count": 1,
   "metadata": {},
   "outputs": [],
   "source": [
    "import pandas as pd\n",
    "from utils.DataBaseBuffer import DataBaseBuffer\n",
    "import numpy as np"
   ]
  },
  {
   "cell_type": "code",
   "execution_count": 2,
   "metadata": {},
   "outputs": [],
   "source": [
    "def transform_data(data_buffer: DataBaseBuffer, data: pd.DataFrame,tags:np.array, append:bool):\n",
    "    pivot_df = data.pivot(index='time', columns='asset', values='value')  \n",
    "    assets = pivot_df.columns.values\n",
    "    elementos_excluidos = np.setdiff1d(tags, assets)\n",
    "    nuevas_columnas = {col: [np.nan] * len(pivot_df) for col in elementos_excluidos}\n",
    "    pivot_df = pivot_df.assign(**nuevas_columnas)\n",
    "\n",
    "    pivot_df = pivot_df[tags]\n",
    "        \n",
    "    if not append:\n",
    "        pivot_df.to_csv(f\"data/n_{data_buffer.process_name}_p{data_buffer.process}_e{data_buffer.exec_id}.csv\", header = True)\n",
    "    else:\n",
    "        pivot_df.to_csv(f\"data/n_{data_buffer.process_name}_p{data_buffer.process}_e{data_buffer.exec_id}.csv\", mode='a', header = False)\n",
    "    \n",
    "    return pivot_df.isna().sum().sum()"
   ]
  },
  {
   "cell_type": "code",
   "execution_count": 3,
   "metadata": {},
   "outputs": [],
   "source": [
    "def extract_data_of_process(process:int):\n",
    "    data_buffer = DataBaseBuffer(process, batch_size= 100000)\n",
    "    while True:\n",
    "        tags = data_buffer.tags_execution()\n",
    "        total_nan = 0\n",
    "        data_buffer.restart()\n",
    "        data_temp = pd.DataFrame([], columns =[\"id\",\"time\",\"value\",\"asset\",\"execution\"])\n",
    "        while data_buffer.next():\n",
    "            data = data_buffer.current_data\n",
    "            data = pd.concat([data_temp, data], ignore_index=True)\n",
    "            last_time = data['time'].iloc[-1]\n",
    "            data_temp = data[data[\"time\"]==last_time]\n",
    "            data = data.drop(data_temp.index)\n",
    "\n",
    "            nans_exec = transform_data(data_buffer, data, tags, data_buffer.current_batch != 0)\n",
    "            total_nan = total_nan + nans_exec\n",
    "\n",
    "        nans_exec = transform_data(data_buffer, data_temp, tags, True)\n",
    "        total_nan = total_nan + nans_exec\n",
    "        print(f\"total datos nans {total_nan} for exec {data_buffer.exec_id}\")\n",
    "        \n",
    "        if not data_buffer.next_execution():\n",
    "            break"
   ]
  },
  {
   "cell_type": "code",
   "execution_count": 4,
   "metadata": {},
   "outputs": [
    {
     "name": "stdout",
     "output_type": "stream",
     "text": [
      "2\n",
      "total datos nans 0.0 for exec 1\n",
      "total datos nans 0 for exec 4\n",
      "3\n",
      "total datos nans 0 for exec 2\n",
      "total datos nans 0 for exec 3\n",
      "total datos nans 0 for exec 5\n",
      "total datos nans 0 for exec 6\n",
      "total datos nans 0 for exec 7\n",
      "4\n",
      "total datos nans 0 for exec 8\n",
      "total datos nans 0.0 for exec 9\n",
      "total datos nans 0.0 for exec 10\n",
      "total datos nans 0 for exec 11\n",
      "5\n",
      "total datos nans 0.0 for exec 12\n",
      "total datos nans 0.0 for exec 13\n",
      "total datos nans 0.0 for exec 14\n",
      "total datos nans 0.0 for exec 15\n",
      "total datos nans 0.0 for exec 16\n",
      "total datos nans 0.0 for exec 17\n",
      "total datos nans 0 for exec 18\n",
      "total datos nans 2 for exec 19\n",
      "6\n",
      "total datos nans 20 for exec 20\n",
      "7\n",
      "total datos nans 0 for exec 21\n",
      "8\n",
      "total datos nans 0 for exec 22\n",
      "total datos nans 3 for exec 23\n"
     ]
    }
   ],
   "source": [
    "for i in range(2,9):\n",
    "    print(f\"{i}\")\n",
    "    extract_data_of_process(i)"
   ]
  }
 ],
 "metadata": {
  "kernelspec": {
   "display_name": "network",
   "language": "python",
   "name": "python3"
  },
  "language_info": {
   "codemirror_mode": {
    "name": "ipython",
    "version": 3
   },
   "file_extension": ".py",
   "mimetype": "text/x-python",
   "name": "python",
   "nbconvert_exporter": "python",
   "pygments_lexer": "ipython3",
   "version": "3.11.4"
  },
  "orig_nbformat": 4
 },
 "nbformat": 4,
 "nbformat_minor": 2
}

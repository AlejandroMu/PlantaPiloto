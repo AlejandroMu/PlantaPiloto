{
 "cells": [
  {
   "cell_type": "code",
   "execution_count": 5,
   "metadata": {},
   "outputs": [],
   "source": [
    "import pandas as pd\n",
    "from utils.DataBaseBuffer import DataBaseBuffer\n",
    "import numpy as np"
   ]
  },
  {
   "cell_type": "code",
   "execution_count": 6,
   "metadata": {},
   "outputs": [],
   "source": [
    "def transform_data(data_buffer: DataBaseBuffer, data: pd.DataFrame,tags:np.array, append:bool):\n",
    "    pivot_df = data.pivot(index='time', columns='asset', values='value')  \n",
    "    assets = pivot_df.columns.values\n",
    "    elementos_excluidos = np.setdiff1d(tags, assets)\n",
    "    nuevas_columnas = {col: [np.nan] * len(pivot_df) for col in elementos_excluidos}\n",
    "    pivot_df = pivot_df.assign(**nuevas_columnas)\n",
    "\n",
    "    pivot_df = pivot_df[tags]\n",
    "        \n",
    "    if not append:\n",
    "        pivot_df.to_csv(f\"data/datat_p{data_buffer.process}_e{data_buffer.exec_id}.csv\", header = True)\n",
    "    else:\n",
    "        pivot_df.to_csv(f\"data/datat_p{data_buffer.process}_e{data_buffer.exec_id}.csv\", mode='a', header = False)\n",
    "    \n",
    "    return pivot_df.isna().sum().sum()"
   ]
  },
  {
   "cell_type": "code",
   "execution_count": 7,
   "metadata": {},
   "outputs": [],
   "source": [
    "def extract_data_of_process(process):\n",
    "    data_buffer = DataBaseBuffer(process, batch_size= 1000)\n",
    "    while True:\n",
    "        tags = data_buffer.tags_execution()\n",
    "        total_nan = 0\n",
    "        data_buffer.restart()\n",
    "        data_temp = pd.DataFrame([], columns =[\"id\",\"time\",\"value\",\"asset\",\"execution\"])\n",
    "        while data_buffer.next():\n",
    "            data = data_buffer.current_data\n",
    "            data = pd.concat([data_temp, data], ignore_index=True)\n",
    "            last_time = data['time'].iloc[-1]\n",
    "            data_temp = data[data[\"time\"]==last_time]\n",
    "            data = data.drop(data_temp.index)\n",
    "\n",
    "            nans_exec = transform_data(data_buffer, data, tags, data_buffer.current_batch != 0)\n",
    "            total_nan = total_nan + nans_exec\n",
    "\n",
    "        nans_exec = transform_data(data_buffer, data_temp, tags, True)\n",
    "        total_nan = total_nan + nans_exec\n",
    "        print(f\"total datos nans {total_nan} for exec {data_buffer.exec_id}\")\n",
    "        \n",
    "        if not data_buffer.next_execution():\n",
    "            break"
   ]
  },
  {
   "cell_type": "code",
   "execution_count": 8,
   "metadata": {},
   "outputs": [
    {
     "name": "stdout",
     "output_type": "stream",
     "text": [
      "total datos nans 20 for exec 20\n"
     ]
    }
   ],
   "source": [
    "extract_data_of_process(6)"
   ]
  }
 ],
 "metadata": {
  "kernelspec": {
   "display_name": "network",
   "language": "python",
   "name": "python3"
  },
  "language_info": {
   "codemirror_mode": {
    "name": "ipython",
    "version": 3
   },
   "file_extension": ".py",
   "mimetype": "text/x-python",
   "name": "python",
   "nbconvert_exporter": "python",
   "pygments_lexer": "ipython3",
   "version": "3.11.4"
  },
  "orig_nbformat": 4
 },
 "nbformat": 4,
 "nbformat_minor": 2
}

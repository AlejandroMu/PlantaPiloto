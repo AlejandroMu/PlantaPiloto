{
 "cells": [
  {
   "cell_type": "code",
   "execution_count": 1,
   "metadata": {},
   "outputs": [],
   "source": [
    "import matplotlib.pyplot as plt\n",
    "from ipywidgets import widgets, DatePicker, TimePicker, SelectMultiple, Layout, Checkbox\n",
    "import numpy as np\n",
    "import pandas as pd\n",
    "import datetime\n",
    "from utils.FileBuffer import FileBuffer\n",
    "import random\n",
    "\n",
    "%matplotlib inline\n"
   ]
  },
  {
   "cell_type": "code",
   "execution_count": 2,
   "metadata": {},
   "outputs": [
    {
     "data": {
      "text/plain": [
       "array(['El sistema no puede encontrar la ruta especificada.',\n",
       "       'n_Fermentación_CL17_-_9-agosto-2023_p4_e8.csv',\n",
       "       'n_Fermentación_CL18_p6_e20.csv', 'n_Fermentación_DT_p2_e1.csv',\n",
       "       'n_Fermentación_DT_p2_e4.csv', 'n_Prueba_RIO_p5_e12.csv',\n",
       "       'n_Prueba_RIO_p5_e13.csv', 'n_Prueba_RIO_p5_e14.csv',\n",
       "       'n_Prueba_RIO_p5_e15.csv', 'n_Prueba_RIO_p5_e16.csv',\n",
       "       'n_Prueba_RIO_p5_e17.csv', 'n_Prueba_RIO_p5_e18.csv',\n",
       "       'n_Prueba_RIO_p5_e19.csv', 'n_Prueba_de_conexión_p3_e2.csv',\n",
       "       'n_Prueba_de_conexión_p3_e3.csv', 'n_Prueba_de_conexión_p3_e5.csv',\n",
       "       'n_Prueba_de_conexión_p3_e6.csv', 'n_Prueba_de_conexión_p3_e7.csv',\n",
       "       'n_Pruebas_3_p7_e21.csv', 'n_Pruebas_3_p8_e22.csv',\n",
       "       'n_Pruebas_3_p8_e23.csv'], dtype='<U51')"
      ]
     },
     "execution_count": 2,
     "metadata": {},
     "output_type": "execute_result"
    }
   ],
   "source": [
    "out = !ls data/\n",
    "out = np.array(out)\n",
    "out"
   ]
  },
  {
   "cell_type": "code",
   "execution_count": 3,
   "metadata": {},
   "outputs": [
    {
     "data": {
      "text/plain": [
       "7547    100.0\n",
       "7523    100.0\n",
       "7518    100.0\n",
       "7519    100.0\n",
       "7521    100.0\n",
       "Name: ENT_P103, dtype: float64"
      ]
     },
     "execution_count": 3,
     "metadata": {},
     "output_type": "execute_result"
    }
   ],
   "source": [
    "file = out[1]\n",
    "buffer = FileBuffer(f\"data/{file}\", batch_size= 10000)\n",
    "buffer.next()\n",
    "columns = buffer.get_columns()\n",
    "strategies = buffer.get_strategies()\n",
    "filt = buffer.current_data.sort_values(\"ENT_P103\", ascending=False)\n",
    "filt = filt[\"ENT_P103\"]\n",
    "ind = filt[filt != float(\"inf\")]\n",
    "\n",
    "# for x_coord in filt['time']:\n",
    "#     plt.axvline(x=x_coord, color='red', linestyle='--', label=f'x = {x_coord}')\n",
    "\n",
    "ind.head()"
   ]
  },
  {
   "cell_type": "code",
   "execution_count": 4,
   "metadata": {},
   "outputs": [],
   "source": [
    "def normalize(x,a=0,b=1):\n",
    "  tmp=x[x != float(\"inf\")]\n",
    "  denominador = (tmp.max(0) - x.min(0))\n",
    "  # denominador = denominador if denominador != 0 else 1\n",
    "  return ( b - a)*(x - x.min(0)) / denominador + a"
   ]
  },
  {
   "cell_type": "code",
   "execution_count": 14,
   "metadata": {},
   "outputs": [],
   "source": [
    "def plot_data(data, tags, ax, norm):\n",
    "    x_values = data[\"time\"]\n",
    "    if norm:\n",
    "        ax.set_ylim(-0.3, 1.15)\n",
    "    for i in range(len(tags)):\n",
    "        y_values = data[tags[i]]\n",
    "        filt = data[data[tags[i]] == float(\"inf\")]\n",
    "        for x_coord in filt['time']:\n",
    "            plt.axvline(x=x_coord, color='red', linestyle='--', label=f'x = {x_coord}')\n",
    "        if norm:\n",
    "            y_values = normalize(y_values)\n",
    "        ax.plot(x_values, y_values, label=tags[i], lw = 2,  marker = \"o\")\n",
    "    plt.legend(loc=\"upper right\", bbox_to_anchor=(1.14, 1))\n",
    "\n",
    "        \n",
    "def plot_multi_axes(data, tags, ax, norm):\n",
    "    x_values = data[\"time\"]\n",
    "    if norm:\n",
    "        ax.set_ylim(-0.3, 1.15)\n",
    "    size = len(tags)\n",
    "    lines = []\n",
    "    names = []\n",
    "    i = 0\n",
    "    eje = ax\n",
    "    while True:\n",
    "        if i > 0:\n",
    "            eje = ax.twinx()\n",
    "        y_values = data[tags[i]]\n",
    "        filt = data[data[tags[i]] == float(\"inf\")]\n",
    "        for x_coord in filt['time']:\n",
    "            plt.axvline(x=x_coord, color='red', linestyle='--', label=f'x = {x_coord}')\n",
    "        if norm:\n",
    "            y_values = normalize(y_values)\n",
    "        random_color = (random.random()*0.5, random.random(), random.random())\n",
    "        line, = eje.plot(x_values, y_values, color = random_color, lw = 2, marker = \"o\")\n",
    "        eje.set_ylabel(tags[i], color=random_color)\n",
    "        eje.tick_params(axis='y', labelcolor=random_color)\n",
    "        lines.append(line)\n",
    "        names.append(tags[i])\n",
    "        if i>1:\n",
    "            eje.spines['right'].set_position(('outward', i*60))\n",
    "        if i == size-1:\n",
    "            break\n",
    "                    \n",
    "        i+=1\n",
    "    plt.legend(lines, names, loc='upper left')\n",
    "\n",
    "    "
   ]
  },
  {
   "cell_type": "code",
   "execution_count": 15,
   "metadata": {},
   "outputs": [],
   "source": [
    "\n",
    "def generate_plot(start_date, start_hour, end_date, end_hour, tags, strategy, norm, multi):\n",
    "    start = datetime.datetime.combine(start_date, start_hour)\n",
    "    end = datetime.datetime.combine(end_date, end_hour)\n",
    "    tags = np.array(tags).flatten()\n",
    "    strategy = np.array(strategy).flatten()\n",
    "    data_filter = buffer.get_by_dates(start, end, strategy[0])\n",
    "    fig, ax = plt.subplots(1,1,figsize=(20,12))\n",
    "    if multi:\n",
    "        plot_multi_axes(data_filter, tags, ax, norm)\n",
    "    else:\n",
    "        plot_data(data_filter, tags, ax, norm)\n",
    " \n",
    "        \n",
    "    \n",
    "    plt.xticks(rotation=45, fontsize = 15)\n",
    "    plt.gca().xaxis.set_major_formatter(plt.matplotlib.dates.DateFormatter('%d-%b\\n%H:%M:%S'))\n",
    "    plt.show()\n",
    "    print(len(data_filter))"
   ]
  },
  {
   "cell_type": "code",
   "execution_count": 16,
   "metadata": {},
   "outputs": [
    {
     "data": {
      "application/vnd.jupyter.widget-view+json": {
       "model_id": "4ce294e2118e4da888fdb59f58da406e",
       "version_major": 2,
       "version_minor": 0
      },
      "text/plain": [
       "VBox(children=(HBox(children=(DatePicker(value=datetime.date(2023, 8, 9), description='Inicio: ', step=1), Tim…"
      ]
     },
     "execution_count": 16,
     "metadata": {},
     "output_type": "execute_result"
    }
   ],
   "source": [
    "\n",
    "\n",
    "start_date = DatePicker(value=buffer.init_date.date(), description='Inicio: ')\n",
    "start_hour = TimePicker(value=buffer.init_date.time(), description='Hora:')\n",
    "end_date = DatePicker(value=buffer.end_date.date(), description='Fin: ')\n",
    "end_hour = TimePicker(value=buffer.end_date.time(), description='Hora:')\n",
    "strategies_sele = SelectMultiple( options=strategies, value=[strategies[0]],  description='Strategies:')\n",
    "tags = SelectMultiple( options=columns, value=[columns[0]],  description='Tags:')\n",
    "tags.layout = Layout(height = '200px', width = '500px')\n",
    "strategies_sele.layout = Layout(height = '30px', width = '500px')\n",
    "checkbox1 = Checkbox(value=False, description=\"Normalizado\")\n",
    "checkbox2 = Checkbox(value=False, description=\"MultiEje\")\n",
    "\n",
    "params = {'start_date': start_date, \n",
    "          'start_hour': start_hour,\n",
    "          'end_date': end_date, \n",
    "          'end_hour': end_hour, \n",
    "          'tags': tags,\n",
    "          'strategy': strategies_sele,\n",
    "          'norm':checkbox1,\n",
    "          'multi':checkbox2}\n",
    "interactive = widgets.interactive_output(generate_plot, params)\n",
    "widgets.VBox([\n",
    "    widgets.HBox([start_date, start_hour, checkbox1, checkbox2]),\n",
    "    widgets.HBox([end_date, end_hour]),\n",
    "    widgets.HBox([tags, strategies_sele]),\n",
    "    interactive\n",
    "])\n"
   ]
  }
 ],
 "metadata": {
  "kernelspec": {
   "display_name": "network",
   "language": "python",
   "name": "python3"
  },
  "language_info": {
   "codemirror_mode": {
    "name": "ipython",
    "version": 3
   },
   "file_extension": ".py",
   "mimetype": "text/x-python",
   "name": "python",
   "nbconvert_exporter": "python",
   "pygments_lexer": "ipython3",
   "version": "3.11.4"
  },
  "orig_nbformat": 4
 },
 "nbformat": 4,
 "nbformat_minor": 2
}

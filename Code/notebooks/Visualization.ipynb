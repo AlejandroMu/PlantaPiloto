{
 "cells": [
  {
   "cell_type": "code",
   "execution_count": 5,
   "metadata": {},
   "outputs": [],
   "source": [
    "import matplotlib.pyplot as plt\n",
    "from ipywidgets import widgets, DatePicker, TimePicker, SelectMultiple, Layout\n",
    "import numpy as np\n",
    "import pandas as pd\n",
    "import datetime\n",
    "from utils.FileBuffer import FileBuffer\n",
    "%matplotlib inline\n"
   ]
  },
  {
   "cell_type": "code",
   "execution_count": 6,
   "metadata": {},
   "outputs": [],
   "source": [
    "buffer = FileBuffer(\"data/data_p6_e20.csv\", batch_size= 10000)\n",
    "buffer.next()\n",
    "columns = buffer.get_columns()\n",
    "strategies = buffer.get_strategies()"
   ]
  },
  {
   "cell_type": "code",
   "execution_count": 7,
   "metadata": {},
   "outputs": [
    {
     "data": {
      "application/vnd.jupyter.widget-view+json": {
       "model_id": "bf365b7125a24bdd9367d817c52e5777",
       "version_major": 2,
       "version_minor": 0
      },
      "text/plain": [
       "VBox(children=(HBox(children=(DatePicker(value=datetime.date(2023, 8, 15), description='Inicio: ', step=1), Ti…"
      ]
     },
     "execution_count": 7,
     "metadata": {},
     "output_type": "execute_result"
    }
   ],
   "source": [
    "\n",
    "def generate_plot(start_date, start_hour, end_date, end_hour, tags, strategy):\n",
    "    start = datetime.datetime.combine(start_date, start_hour)\n",
    "    end = datetime.datetime.combine(end_date, end_hour)\n",
    "    tags = np.array(tags).flatten()\n",
    "    strategy = np.array(strategy).flatten()\n",
    "    data_filter = buffer.get_by_dates(start, end, strategy[0])\n",
    "    fig, ax = plt.subplots(figsize=(20,10))\n",
    "    x_values = data_filter[\"time\"]\n",
    "    for i in range(len(tags)):\n",
    "        y_values = data_filter[tags[i]]\n",
    "        line, = ax.plot(x_values, y_values, label=tags[i], lw = 3)\n",
    "    \n",
    "    plt.xticks(rotation=45, fontsize = 15)\n",
    "    plt.gca().xaxis.set_major_formatter(plt.matplotlib.dates.DateFormatter('%d-%b\\n%H:%M:%S'))\n",
    "    plt.legend()\n",
    "    plt.show()\n",
    "    print(len(data_filter))\n",
    "\n",
    "start_date = DatePicker(value=buffer.init_date.date(), description='Inicio: ')\n",
    "start_hour = TimePicker(value=buffer.init_date.time(), description='Hora:')\n",
    "end_date = DatePicker(value=buffer.end_date.date(), description='Fin: ')\n",
    "end_hour = TimePicker(value=buffer.end_date.time(), description='Hora:')\n",
    "strategies_sele = SelectMultiple( options=strategies, value=[strategies[0]],  description='Strategies:')\n",
    "tags = SelectMultiple( options=columns, value=[columns[0]],  description='Tags:')\n",
    "tags.layout = Layout(height = '400px', width = '500px')\n",
    "params = {'start_date': start_date, \n",
    "          'start_hour': start_hour,\n",
    "          'end_date': end_date, \n",
    "          'end_hour': end_hour, \n",
    "          'tags': tags,\n",
    "          'strategy': strategies_sele}\n",
    "interactive = widgets.interactive_output(generate_plot, params)\n",
    "widgets.VBox([\n",
    "    widgets.HBox([start_date, start_hour]),\n",
    "    widgets.HBox([end_date, end_hour]),\n",
    "    widgets.HBox([interactive,tags]),\n",
    "    widgets.HBox([strategies_sele])\n",
    "])\n"
   ]
  },
  {
   "cell_type": "code",
   "execution_count": null,
   "metadata": {},
   "outputs": [],
   "source": []
  }
 ],
 "metadata": {
  "kernelspec": {
   "display_name": "network",
   "language": "python",
   "name": "python3"
  },
  "language_info": {
   "codemirror_mode": {
    "name": "ipython",
    "version": 3
   },
   "file_extension": ".py",
   "mimetype": "text/x-python",
   "name": "python",
   "nbconvert_exporter": "python",
   "pygments_lexer": "ipython3",
   "version": "3.11.4"
  },
  "orig_nbformat": 4
 },
 "nbformat": 4,
 "nbformat_minor": 2
}
